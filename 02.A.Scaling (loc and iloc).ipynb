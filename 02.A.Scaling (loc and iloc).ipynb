{
 "cells": [
  {
   "cell_type": "code",
   "execution_count": 1,
   "metadata": {},
   "outputs": [],
   "source": [
    "import pandas as pd\n",
    "import numpy as np"
   ]
  },
  {
   "cell_type": "code",
   "execution_count": 2,
   "metadata": {},
   "outputs": [
    {
     "data": {
      "text/html": [
       "<div>\n",
       "<style scoped>\n",
       "    .dataframe tbody tr th:only-of-type {\n",
       "        vertical-align: middle;\n",
       "    }\n",
       "\n",
       "    .dataframe tbody tr th {\n",
       "        vertical-align: top;\n",
       "    }\n",
       "\n",
       "    .dataframe thead th {\n",
       "        text-align: right;\n",
       "    }\n",
       "</style>\n",
       "<table border=\"1\" class=\"dataframe\">\n",
       "  <thead>\n",
       "    <tr style=\"text-align: right;\">\n",
       "      <th></th>\n",
       "      <th>Marketing Spend</th>\n",
       "      <th>Administration</th>\n",
       "      <th>Transport</th>\n",
       "      <th>Area</th>\n",
       "      <th>Profit</th>\n",
       "    </tr>\n",
       "  </thead>\n",
       "  <tbody>\n",
       "    <tr>\n",
       "      <th>0</th>\n",
       "      <td>114523.61</td>\n",
       "      <td>136897.80</td>\n",
       "      <td>471784.10</td>\n",
       "      <td>Dhaka</td>\n",
       "      <td>192261.83</td>\n",
       "    </tr>\n",
       "    <tr>\n",
       "      <th>1</th>\n",
       "      <td>162597.70</td>\n",
       "      <td>151377.59</td>\n",
       "      <td>443898.53</td>\n",
       "      <td>Ctg</td>\n",
       "      <td>191792.06</td>\n",
       "    </tr>\n",
       "  </tbody>\n",
       "</table>\n",
       "</div>"
      ],
      "text/plain": [
       "   Marketing Spend  Administration  Transport   Area     Profit\n",
       "0        114523.61       136897.80  471784.10  Dhaka  192261.83\n",
       "1        162597.70       151377.59  443898.53    Ctg  191792.06"
      ]
     },
     "execution_count": 2,
     "metadata": {},
     "output_type": "execute_result"
    }
   ],
   "source": [
    "df = pd.read_csv('supershops.csv')\n",
    "df.head(2)"
   ]
  },
  {
   "cell_type": "code",
   "execution_count": 29,
   "metadata": {},
   "outputs": [
    {
     "data": {
      "text/html": [
       "<div>\n",
       "<style scoped>\n",
       "    .dataframe tbody tr th:only-of-type {\n",
       "        vertical-align: middle;\n",
       "    }\n",
       "\n",
       "    .dataframe tbody tr th {\n",
       "        vertical-align: top;\n",
       "    }\n",
       "\n",
       "    .dataframe thead th {\n",
       "        text-align: right;\n",
       "    }\n",
       "</style>\n",
       "<table border=\"1\" class=\"dataframe\">\n",
       "  <thead>\n",
       "    <tr style=\"text-align: right;\">\n",
       "      <th></th>\n",
       "      <th>Marketing Spend</th>\n",
       "      <th>Administration</th>\n",
       "      <th>Transport</th>\n",
       "    </tr>\n",
       "  </thead>\n",
       "  <tbody>\n",
       "    <tr>\n",
       "      <th>0</th>\n",
       "      <td>114523.61</td>\n",
       "      <td>136897.80</td>\n",
       "      <td>471784.10</td>\n",
       "    </tr>\n",
       "    <tr>\n",
       "      <th>1</th>\n",
       "      <td>162597.70</td>\n",
       "      <td>151377.59</td>\n",
       "      <td>443898.53</td>\n",
       "    </tr>\n",
       "  </tbody>\n",
       "</table>\n",
       "</div>"
      ],
      "text/plain": [
       "   Marketing Spend  Administration  Transport\n",
       "0        114523.61       136897.80  471784.10\n",
       "1        162597.70       151377.59  443898.53"
      ]
     },
     "execution_count": 29,
     "metadata": {},
     "output_type": "execute_result"
    }
   ],
   "source": [
    "x = df.iloc[:,[ 0, 1, 2]]\n",
    "y = df.iloc[:,[ -1]]\n",
    "x.head(2)"
   ]
  },
  {
   "cell_type": "code",
   "execution_count": 17,
   "metadata": {},
   "outputs": [
    {
     "data": {
      "text/html": [
       "<div>\n",
       "<style scoped>\n",
       "    .dataframe tbody tr th:only-of-type {\n",
       "        vertical-align: middle;\n",
       "    }\n",
       "\n",
       "    .dataframe tbody tr th {\n",
       "        vertical-align: top;\n",
       "    }\n",
       "\n",
       "    .dataframe thead th {\n",
       "        text-align: right;\n",
       "    }\n",
       "</style>\n",
       "<table border=\"1\" class=\"dataframe\">\n",
       "  <thead>\n",
       "    <tr style=\"text-align: right;\">\n",
       "      <th></th>\n",
       "      <th>Profit</th>\n",
       "    </tr>\n",
       "  </thead>\n",
       "  <tbody>\n",
       "    <tr>\n",
       "      <th>0</th>\n",
       "      <td>192261.83</td>\n",
       "    </tr>\n",
       "    <tr>\n",
       "      <th>1</th>\n",
       "      <td>191792.06</td>\n",
       "    </tr>\n",
       "  </tbody>\n",
       "</table>\n",
       "</div>"
      ],
      "text/plain": [
       "      Profit\n",
       "0  192261.83\n",
       "1  191792.06"
      ]
     },
     "execution_count": 17,
     "metadata": {},
     "output_type": "execute_result"
    }
   ],
   "source": [
    "y.head(2)"
   ]
  },
  {
   "cell_type": "markdown",
   "metadata": {},
   "source": [
    "# Normalization"
   ]
  },
  {
   "cell_type": "code",
   "execution_count": 39,
   "metadata": {},
   "outputs": [
    {
     "data": {
      "text/html": [
       "<div>\n",
       "<style scoped>\n",
       "    .dataframe tbody tr th:only-of-type {\n",
       "        vertical-align: middle;\n",
       "    }\n",
       "\n",
       "    .dataframe tbody tr th {\n",
       "        vertical-align: top;\n",
       "    }\n",
       "\n",
       "    .dataframe thead th {\n",
       "        text-align: right;\n",
       "    }\n",
       "</style>\n",
       "<table border=\"1\" class=\"dataframe\">\n",
       "  <thead>\n",
       "    <tr style=\"text-align: right;\">\n",
       "      <th></th>\n",
       "      <th>Marketing Spend</th>\n",
       "      <th>Administration</th>\n",
       "      <th>Transport</th>\n",
       "    </tr>\n",
       "  </thead>\n",
       "  <tbody>\n",
       "    <tr>\n",
       "      <th>0</th>\n",
       "      <td>0.692617</td>\n",
       "      <td>0.651744</td>\n",
       "      <td>1.000000</td>\n",
       "    </tr>\n",
       "    <tr>\n",
       "      <th>1</th>\n",
       "      <td>0.983359</td>\n",
       "      <td>0.761972</td>\n",
       "      <td>0.940893</td>\n",
       "    </tr>\n",
       "  </tbody>\n",
       "</table>\n",
       "</div>"
      ],
      "text/plain": [
       "   Marketing Spend  Administration  Transport\n",
       "0         0.692617        0.651744   1.000000\n",
       "1         0.983359        0.761972   0.940893"
      ]
     },
     "execution_count": 39,
     "metadata": {},
     "output_type": "execute_result"
    }
   ],
   "source": [
    "from sklearn.preprocessing import MinMaxScaler\n",
    "m = MinMaxScaler()\n",
    "\n",
    "df.iloc[:,[ 0, 1, 2]]= m.fit_transform(x) # still on dataframe\n",
    "df.iloc[:,[ 0, 1, 2]].head(2)"
   ]
  },
  {
   "cell_type": "code",
   "execution_count": 40,
   "metadata": {},
   "outputs": [
    {
     "data": {
      "text/plain": [
       "array([[0.69261666, 0.65174393, 1.        ],\n",
       "       [0.98335946, 0.76197173, 0.94089337],\n",
       "       [0.92798459, 0.37957895, 0.8646636 ],\n",
       "       [0.87313643, 0.51299839, 0.81223513],\n",
       "       [0.85943772, 0.30532804, 0.77613557],\n",
       "       [0.797566  , 0.3694479 , 0.76912588],\n",
       "       [0.81412828, 0.73016111, 0.27071031],\n",
       "       [0.7880179 , 0.71745725, 0.68649342],\n",
       "       [0.72901786, 0.74173276, 0.66049977],\n",
       "       [0.74590551, 0.43692884, 0.64644319],\n",
       "       [0.61635061, 0.45150637, 0.48573267],\n",
       "       [0.60884455, 0.30836422, 0.52936195],\n",
       "       [0.56766982, 0.57883556, 0.52956308],\n",
       "       [0.55635219, 0.64106561, 0.53555202],\n",
       "       [0.72539353, 0.8013272 , 0.54370828],\n",
       "       [1.        , 0.54302973, 0.55486446],\n",
       "       [0.47180821, 0.53527036, 0.56031151],\n",
       "       [0.57246821, 0.71401273, 0.59894835],\n",
       "       [0.55488118, 0.47877201, 0.62511553],\n",
       "       [0.52264964, 0.77823604,        nan],\n",
       "       [0.46116861, 0.47642362, 0.63305328],\n",
       "       [0.47408436, 0.78021012, 0.63532724],\n",
       "       [0.4475048 , 0.54429273, 0.64291963],\n",
       "       [0.40842369, 0.4146383 , 0.64599195],\n",
       "       [0.46594728, 0.3653876 , 0.29796428],\n",
       "       [0.39107967, 0.67195793, 0.29242745],\n",
       "       [0.45557444, 0.70684477, 0.28413435],\n",
       "       [0.43609283, 0.58297807, 0.74861321],\n",
       "       [0.39946683, 1.        , 0.25042853],\n",
       "       [0.39676926, 0.77456642, 0.22709197],\n",
       "       [0.37493063, 0.48992809, 0.19316302],\n",
       "       [0.36974101, 0.77205322, 0.18698856],\n",
       "       [0.38348453, 0.5932935 , 0.09768292],\n",
       "       [0.33561668, 0.39413365, 0.45494286],\n",
       "       [0.2807759 , 0.81005496, 0.44680961],\n",
       "       [0.2782839 , 0.25703165, 0.43561799],\n",
       "       [0.17335288, 0.57682456, 0.42631115],\n",
       "       [0.26652654, 0.        , 0.41762624],\n",
       "       [0.12234465, 0.11163611, 0.39269043],\n",
       "       [0.23319442, 0.24130912, 0.3709309 ],\n",
       "       [0.17390063, 0.51204073, 0.36626005],\n",
       "       [0.16869099, 0.25446874, 0.34861436],\n",
       "       [0.14297577, 0.34185188, 0.31370517],\n",
       "       [0.09377566, 0.57930693, 0.07531871],\n",
       "       [0.13412668, 0.78807166, 0.06005866],\n",
       "       [0.0060492 , 0.5547241 , 0.0040356 ],\n",
       "       [0.00795565, 0.49125975, 0.62976785],\n",
       "       [0.        , 0.64054682, 0.        ],\n",
       "       [0.00327821, 0.00350184, 0.        ],\n",
       "       [0.        , 0.50014806, 0.09574943]])"
      ]
     },
     "execution_count": 40,
     "metadata": {},
     "output_type": "execute_result"
    }
   ],
   "source": [
    "x1 = m.fit_transform(x) # numpy array\n",
    "x1"
   ]
  },
  {
   "cell_type": "code",
   "execution_count": null,
   "metadata": {},
   "outputs": [],
   "source": [
    "# similarly for Standardization, Robust Scaler, Max Absolute Scaler"
   ]
  }
 ],
 "metadata": {
  "kernelspec": {
   "display_name": "Python 3",
   "language": "python",
   "name": "python3"
  },
  "language_info": {
   "codemirror_mode": {
    "name": "ipython",
    "version": 3
   },
   "file_extension": ".py",
   "mimetype": "text/x-python",
   "name": "python",
   "nbconvert_exporter": "python",
   "pygments_lexer": "ipython3",
   "version": "3.7.10"
  }
 },
 "nbformat": 4,
 "nbformat_minor": 4
}
