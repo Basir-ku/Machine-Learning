{
 "cells": [
  {
   "cell_type": "code",
   "execution_count": 1,
   "metadata": {},
   "outputs": [],
   "source": [
    "#importing libraries dataset\n",
    "import pandas as pd\n",
    "import numpy as np\n",
    "from sklearn.model_selection import train_test_split\n",
    "from sklearn.linear_model import LinearRegression\n",
    "from sklearn.neighbors import KNeighborsRegressor\n",
    "from sklearn.neighbors import KNeighborsClassifier\n",
    "from sklearn.metrics import mean_squared_error\n",
    "from sklearn.metrics import accuracy_score\n",
    "\n",
    "import warnings as wr\n",
    "wr.filterwarnings('ignore')\n",
    "\n",
    "# 1. Import data set\n",
    "df = pd.read_csv('weight-height.csv')\n",
    "df.replace(to_replace=[\"Male\", \"Female\"], value=[1,0], inplace=True) #male=1 ' female=0'\n",
    "# df.info()\n",
    "# df.Gender.value_counts()"
   ]
  },
  {
   "cell_type": "markdown",
   "metadata": {},
   "source": [
    "# Step 01 - Regression"
   ]
  },
  {
   "cell_type": "code",
   "execution_count": 2,
   "metadata": {
    "scrolled": true
   },
   "outputs": [
    {
     "name": "stdout",
     "output_type": "stream",
     "text": [
      "[[175.28559048]\n",
      " [125.97807182]\n",
      " [198.09213057]\n",
      " ...\n",
      " [ 90.61939845]\n",
      " [192.26926764]\n",
      " [208.77244495]]\n"
     ]
    }
   ],
   "source": [
    "# 2. Separate x(Gender, Height) and y (y=Weight)\n",
    "# x = df.iloc[:,[0,1]]\n",
    "# y = df.iloc[:,[-1]]\n",
    "x = df.drop('Weight', axis=1)\n",
    "y = df[['Weight']]\n",
    "\n",
    "#3. Train = 70%, Test = 30%from sklearn.model_selection import train_test_split\n",
    "x_train, x_test, y_train, y_test = train_test_split(x, y, train_size=.3, random_state=10)\n",
    "\n",
    "# 4. Apply Linear Regression\n",
    "lr=LinearRegression()\n",
    "lr.fit(x_train,y_train)\n",
    "y_pred = lr.predict(x_test)\n",
    "print(y_pred)"
   ]
  },
  {
   "cell_type": "code",
   "execution_count": 3,
   "metadata": {},
   "outputs": [
    {
     "name": "stdout",
     "output_type": "stream",
     "text": [
      "Mse in linear linear reg: 102.53560862214007\n",
      "Testing and training Accuracy in linear reg: 0.9000576996572582\n"
     ]
    }
   ],
   "source": [
    "# 5. Evaluate the Model (Testing and training Accuracy, MSE for testing)\n",
    "mse = mean_squared_error(y_test, y_pred)\n",
    "tta = lr.score(x_test, y_test)\n",
    "print(f\"Mse in linear linear reg: {mse}\")\n",
    "print(f\"Testing and training Accuracy in linear reg: {tta}\")"
   ]
  },
  {
   "cell_type": "code",
   "execution_count": 4,
   "metadata": {},
   "outputs": [
    {
     "name": "stdout",
     "output_type": "stream",
     "text": [
      "[[181.46533094]\n",
      " [130.00128478]\n",
      " [200.19309534]\n",
      " ...\n",
      " [ 93.56032375]\n",
      " [196.97655418]\n",
      " [213.6928609 ]]\n"
     ]
    }
   ],
   "source": [
    "# 6. Apply KNN Regressor: https://scikit-learn.org/stable/modules/generated/sklearn.neighbors.KNeighborsRegressor.html\n",
    "kl=KNeighborsRegressor()\n",
    "kl.fit(x_train, y_train)\n",
    "y_pred= kl.predict(x_test)\n",
    "print(y_pred)\n"
   ]
  },
  {
   "cell_type": "code",
   "execution_count": 5,
   "metadata": {},
   "outputs": [
    {
     "name": "stdout",
     "output_type": "stream",
     "text": [
      "Mse in knn reg: 122.99581877497853\n",
      "Testing and training Accuracy in knn reg :0.8801149646830488\n"
     ]
    }
   ],
   "source": [
    "# 7. Evaluate the Model (Testing and training Accuracy, MSE for testing)\n",
    "mse = mean_squared_error(y_test, y_pred)\n",
    "tta = kl.score(x_test, y_test)\n",
    "print(f\"Mse in knn reg: {mse}\")\n",
    "print(f\"Testing and training Accuracy in knn reg :{tta}\")"
   ]
  },
  {
   "cell_type": "markdown",
   "metadata": {},
   "source": [
    "# Step 02 - Classification"
   ]
  },
  {
   "cell_type": "code",
   "execution_count": 6,
   "metadata": {},
   "outputs": [
    {
     "data": {
      "text/plain": [
       "KNeighborsClassifier(n_neighbors=100)"
      ]
     },
     "execution_count": 6,
     "metadata": {},
     "output_type": "execute_result"
    }
   ],
   "source": [
    "#df.replace(to_replace=[\"Male\", \"Female\"], value=[1,0], inplace=True) #male=1 ' female=0'\n",
    "\n",
    "#2. Separate x and (y=Gender)\n",
    "# x = df.iloc[:, [1,2]]\n",
    "# y = df.iloc[:, [0]]\n",
    "x = df.drop('Gender', axis=1)\n",
    "y = df[['Gender']]\n",
    "\n",
    "# 3. Train = 70%, Test = 30%\n",
    "x_train, x_test, y_train, y_test = train_test_split(x, y, test_size=.30, random_state=10)\n",
    "\n",
    "#4. Apply KNN Classifier\n",
    "kc = KNeighborsClassifier(n_neighbors=100)\n",
    "\n",
    "# Fit the classifier to the training data\n",
    "kc.fit(x_train, y_train)"
   ]
  },
  {
   "cell_type": "code",
   "execution_count": 7,
   "metadata": {},
   "outputs": [
    {
     "name": "stdout",
     "output_type": "stream",
     "text": [
      "[1 0 1 ... 1 1 1]\n"
     ]
    }
   ],
   "source": [
    "# Predict the classes of the testing data\n",
    "y_pred = kc.predict(x_test) # 1 = male ; 0 = female\n",
    "print(y_pred)"
   ]
  },
  {
   "cell_type": "code",
   "execution_count": 8,
   "metadata": {},
   "outputs": [
    {
     "name": "stdout",
     "output_type": "stream",
     "text": [
      "Accuracy in knn classifier: 0.9232567199065056\n"
     ]
    }
   ],
   "source": [
    "# 5. Evaluate the Model by only Accuracy.\n",
    "accuracy = accuracy_score(y_test, y_pred )\n",
    "print(f\"Accuracy in knn classifier: {accuracy}\")"
   ]
  },
  {
   "cell_type": "code",
   "execution_count": null,
   "metadata": {},
   "outputs": [],
   "source": []
  }
 ],
 "metadata": {
  "kernelspec": {
   "display_name": "Python 3",
   "language": "python",
   "name": "python3"
  },
  "language_info": {
   "codemirror_mode": {
    "name": "ipython",
    "version": 3
   },
   "file_extension": ".py",
   "mimetype": "text/x-python",
   "name": "python",
   "nbconvert_exporter": "python",
   "pygments_lexer": "ipython3",
   "version": "3.7.10"
  }
 },
 "nbformat": 4,
 "nbformat_minor": 5
}
